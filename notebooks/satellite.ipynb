{
 "cells": [
  {
   "cell_type": "markdown",
   "id": "e0f3b6ca-5f47-467d-9861-2d76deac2aef",
   "metadata": {},
   "source": [
    "# This notebook is meant to be a demo of what can be done with intake on ref-marc datas"
   ]
  },
  {
   "cell_type": "code",
   "execution_count": null,
   "id": "7e46667a-1988-4c93-8f1b-503c4f965ba7",
   "metadata": {},
   "outputs": [],
   "source": [
    "import intake\n",
    "import dask_hpcconfig\n",
    "from distributed import Client\n",
    "import xarray as xr\n",
    "import hvplot.xarray\n",
    "import geoviews.feature as gf\n",
    "import os"
   ]
  },
  {
   "cell_type": "markdown",
   "id": "b7a120fd-8494-4867-b1ca-2a7493f0557a",
   "metadata": {},
   "source": [
    "Detail of the imports:\n",
    "-----------------------------------------------------------------------------------------------  \n",
    "    Intake    \n",
    ">- Handle the catalog contained in the yaml files.\n",
    "\n",
    "    dask_hpcconfig    \n",
    ">- Parrallelize your tasks on an hpc like datatrmor.\n",
    "\n",
    "    Distributed import Client    \n",
    ">- Client is creating the dask client\n",
    "\n",
    "    Xarray    \n",
    ">- Xarray makes operation on datasets and creates labbeled multidimensional arrays\n",
    "\n",
    "    hvplot.xarray\n",
    ">- Plotting \n",
    "\n",
    "    geoviews.features\n",
    ">- Plotting that enables some features on maps \n",
    "\n",
    "    os\n",
    ">- Can handle operating system dependant functionnality "
   ]
  },
  {
   "cell_type": "code",
   "execution_count": null,
   "id": "462e8fd5-767f-4399-9560-4168bf12947f",
   "metadata": {},
   "outputs": [],
   "source": [
    "cluster = dask_hpcconfig.cluster(\"datarmor-local\")\n",
    "cluster.scale(14)\n",
    "client = Client(cluster)\n",
    "client"
   ]
  },
  {
   "cell_type": "markdown",
   "id": "52430898-aaee-489a-8974-1cd91cd1673e",
   "metadata": {},
   "source": [
    "To vizaulise the dask-lab extension you need to go the the dask-lab tab and fill it wih :\n",
    ">- /user/{ JUPYTERHUB-USERNAME }/proxy/{ PORT-NUMBER }"
   ]
  },
  {
   "cell_type": "code",
   "execution_count": null,
   "id": "f8f537b4-1197-4052-a50f-2ac66429332a",
   "metadata": {},
   "outputs": [],
   "source": [
    "path = \"/home/datawork-lops-iaocea/catalog/kerchunk/satellite/\" \n",
    "files = [f for f in os.listdir(path) if os.path.isdir(os.path.join(path, f))]\n",
    "files.sort()\n",
    "len(files)"
   ]
  },
  {
   "cell_type": "code",
   "execution_count": null,
   "id": "a0ccc244-1a4d-4d68-b449-3b17e2e5ab7a",
   "metadata": {},
   "outputs": [],
   "source": [
    "def list_param(cat, param):\n",
    "    return cat.metadata[\"parameters\"][param][\"allowed\"]\n",
    "\n",
    "def allowed_param(cat):\n",
    "    return cat.metadata[\"parameters\"]\n",
    "\n",
    "def allowed_years(data):\n",
    "    path = \"/home/datawork-lops-iaocea/catalog/kerchunk/satellite/\" + data\n",
    "    files = [f for f in os.listdir(path) if os.path.isfile(os.path.join(path, f))]\n",
    "    files.sort()\n",
    "    return files\n",
    "\n",
    "def year_concat(cat, source, region):\n",
    "    concat = [cat[source](region=region, filename=i).to_dask() \n",
    "              for i in allowed_years(region)]\n",
    "\n",
    "    return xr.concat(\n",
    "        concat, \n",
    "        dim=\"time\", \n",
    "        coords=\"minimal\", \n",
    "        data_vars=\"minimal\", \n",
    "        compat=\"override\"\n",
    "    )"
   ]
  },
  {
   "cell_type": "markdown",
   "id": "a6567709-570f-4162-a0eb-a2608d5f2535",
   "metadata": {},
   "source": [
    "Detail of the functions:\n",
    "-----------------------------------------------------------------------------------------------  \n",
    "    list_param(cat, param)    \n",
    ">- Takes 2 arguments: cat = An opened catalog, param = The name of a parameter.\n",
    ">- Returns a ptyhon list containing all the parameters.\n",
    "\n",
    "    allowed_param(cat)    \n",
    ">- Takes 1 argument: cat = An opened catalog\n",
    ">- Returns a python dict containing the allowed values of each parameters and their description\n",
    "\n",
    "    Allowed_years(data)    \n",
    ">- Takes 1 argument: data = A region of data.\n",
    ">- Returns a pythton list containing all the files stored in the directory. The combined jsons are stored in a directory named after the region (Same name than in the ref-marc directory)  \n",
    "/!\\ In this notebook, it will only work with ref-marc data because the json files are located at /home/datawork-lops-iaocea/catalog/kerchunk/ref-marc/. To use it to another directory, update the variable \"path\" in the function\n",
    "\n",
    "    year_concat(cat, source, region)    \n",
    ">- Takes 3 arguments: cat = An opened catalog, source = the source from this catalog, region = the region where the data comes from\n",
    ">- Returns: A dataset concatenated over the time dimension\n"
   ]
  },
  {
   "cell_type": "code",
   "execution_count": null,
   "id": "37fbd33e-e9fe-4987-be1c-7ac265a54068",
   "metadata": {},
   "outputs": [],
   "source": [
    "cat = intake.open_catalog(\"/home/datawork-lops-iaocea/catalog/intake/satelite.yaml\")"
   ]
  },
  {
   "cell_type": "markdown",
   "id": "1a328a1d-b57e-48f3-91ca-7358c999efa2",
   "metadata": {},
   "source": [
    "#### To open the catalog you can use the cell above, you just need to give the path to an intake catalog."
   ]
  },
  {
   "cell_type": "code",
   "execution_count": null,
   "id": "1d455168-cd2a-4a0b-84c2-2a79e7312d24",
   "metadata": {},
   "outputs": [],
   "source": [
    "regions = list_param(\n",
    "    cat, \"region\"\n",
    ")"
   ]
  },
  {
   "cell_type": "markdown",
   "id": "874b12a9-0bbb-4fc8-96ae-cc236afb7933",
   "metadata": {},
   "source": [
    "### This tab is here to test the file and see how long it takes to be concatenated, if everything works as it should and measure the performance\n",
    "\n",
    "Tested on datarmor with the spark notebook\n",
    "\n",
    "\n",
    "\n",
    "\n",
    "\n",
    "\n",
    "\n",
    "|    REGION                                             |  OPEN DATASET  |    COMPUTE      |     PLOT    |\n",
    "|    :------------------------------------              |:--------------:|:---------------:|:-----------:|\n",
    "|   osisaf_public_l3_east_atlantic_west_indian_meteosat |Works           |Works            |Works        |\n",
    "|   osisaf_public_l3_naravhrr_metop_a                   |Works           |Works            |Works        |\n",
    "|   osisaf_public_l3_nar_avhrr_noa_19                   |Works           |Works            |Works        |\n",
    "|   osisaf_public_l3_west_atlantic_east_pacific_goes    |Works           |Works            |Works        |\n",
    "|                                                       |                |                 |             |\n",
    "\n"
   ]
  },
  {
   "cell_type": "code",
   "execution_count": null,
   "id": "136251dc-ccd2-48d6-bf34-2f0c5c1a9fe2",
   "metadata": {
    "tags": []
   },
   "outputs": [],
   "source": [
    "region = regions[3]\n",
    "regions"
   ]
  },
  {
   "cell_type": "code",
   "execution_count": null,
   "id": "7b8f7853-78d9-4c3f-81e9-00473b9e65a4",
   "metadata": {
    "tags": []
   },
   "outputs": [],
   "source": [
    "ds = cat.satellite(region=regions[0]).to_dask()\n",
    "ds"
   ]
  },
  {
   "cell_type": "code",
   "execution_count": null,
   "id": "b8e963f8-b1b1-4509-ae76-52a44948da39",
   "metadata": {},
   "outputs": [],
   "source": [
    "da = ds.sea_surface_temperature "
   ]
  },
  {
   "cell_type": "code",
   "execution_count": null,
   "id": "524d7426-53df-45d5-ac62-c97d48c550d8",
   "metadata": {},
   "outputs": [],
   "source": [
    "da.unify_chunks().hvplot.quadmesh(\n",
    "     x=\"lon\", y=\"lat\", rasterize=True, geo=True, cmap=\"BuPu\"\n",
    ") * gf.land.opts(scale=\"10m\") * gf.coastline.opts(scale=\"10m\")"
   ]
  },
  {
   "cell_type": "code",
   "execution_count": null,
   "id": "efdd4c82-11b9-4cf3-85a9-4d638c6123e8",
   "metadata": {},
   "outputs": [],
   "source": []
  }
 ],
 "metadata": {
  "kernelspec": {
   "display_name": "auto-kerchunk",
   "language": "python",
   "name": "auto-kerchunk"
  },
  "language_info": {
   "codemirror_mode": {
    "name": "ipython",
    "version": 3
   },
   "file_extension": ".py",
   "mimetype": "text/x-python",
   "name": "python",
   "nbconvert_exporter": "python",
   "pygments_lexer": "ipython3",
   "version": "3.9.12"
  }
 },
 "nbformat": 4,
 "nbformat_minor": 5
}
